{
 "cells": [
  {
   "cell_type": "code",
   "execution_count": 6,
   "metadata": {},
   "outputs": [
    {
     "name": "stdout",
     "output_type": "stream",
     "text": [
      "108育兒補貼人數.csv 处理完成，已保存为 allowance_108.csv\n",
      "109育兒補貼人數.csv 处理完成，已保存为 allowance_109.csv\n"
     ]
    }
   ],
   "source": [
    "import pandas as pd\n",
    "\n",
    "\n",
    "for year in range(108,110):  # 迭代108和109两年\n",
    "    filename = f'{year}育兒補貼人數.csv'\n",
    "    output_filename = f'allowance_{year}.csv'\n",
    "\n",
    "    # 读取CSV文件\n",
    "    df = pd.read_csv(filename)\n",
    "\n",
    "    # 删除不需要的列\n",
    "    df = df.drop(columns=['育有0至未滿2歲兒童育兒津貼經費'])\n",
    "\n",
    "    # 重命名列\n",
    "    df.rename(columns={'育有0至未滿2歲兒童育兒津貼人次': '人數'}, inplace=True)\n",
    "\n",
    "    # 将处理后的数据保存到CSV文件\n",
    "    df.to_csv(output_filename, index=False)\n",
    "\n",
    "    print(f'{filename} 处理完成，已保存为 {output_filename}')\n"
   ]
  },
  {
   "cell_type": "code",
   "execution_count": 21,
   "metadata": {},
   "outputs": [
    {
     "data": {
      "text/plain": [
       "<bound method DataFrame.to_numpy of      年度  月份    人數\n",
       "0   108   1  5742\n",
       "1   108   2  5478\n",
       "2   108   3  5481\n",
       "3   108   4  5437\n",
       "4   108   5  5435\n",
       "5   108   6  5338\n",
       "6   108   7  5386\n",
       "7   108   8  5513\n",
       "8   108   9  5412\n",
       "9   108  10  5457\n",
       "10  108  11  5452\n",
       "11  108  12  5557>"
      ]
     },
     "execution_count": 21,
     "metadata": {},
     "output_type": "execute_result"
    }
   ],
   "source": [
    "import numpy as np\n",
    "df = pd.read_csv('allowance_108.csv')\n",
    "df = df.to_numpy\n",
    "df"
   ]
  },
  {
   "cell_type": "code",
   "execution_count": null,
   "metadata": {},
   "outputs": [],
   "source": []
  }
 ],
 "metadata": {
  "kernelspec": {
   "display_name": "Python 3",
   "language": "python",
   "name": "python3"
  },
  "language_info": {
   "codemirror_mode": {
    "name": "ipython",
    "version": 3
   },
   "file_extension": ".py",
   "mimetype": "text/x-python",
   "name": "python",
   "nbconvert_exporter": "python",
   "pygments_lexer": "ipython3",
   "version": "3.10.9"
  },
  "orig_nbformat": 4
 },
 "nbformat": 4,
 "nbformat_minor": 2
}
